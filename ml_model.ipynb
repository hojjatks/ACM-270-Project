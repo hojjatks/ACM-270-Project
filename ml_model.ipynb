{
 "cells": [
  {
   "cell_type": "code",
   "execution_count": 4,
   "metadata": {},
   "outputs": [
    {
     "name": "stderr",
     "output_type": "stream",
     "text": [
      "2024-04-24 14:20:11.523585: I tensorflow/compiler/mlir/mlir_graph_optimization_pass.cc:388] MLIR V1 optimization pass is not enabled\n",
      "2024-04-24 14:20:11.643101: W tensorflow/c/c_api.cc:305] Operation '{name:'conv1d_3/kernel/Assign' id:171 op device:{requested: '', assigned: ''} def:{{{node conv1d_3/kernel/Assign}} = AssignVariableOp[_has_manual_control_dependencies=true, dtype=DT_FLOAT, validate_shape=false](conv1d_3/kernel, conv1d_3/kernel/Initializer/stateless_random_uniform)}}' was changed by setting attribute after it was run by a session. This mutation will have no effect, and will trigger an error in the future. Either don't modify nodes after running them or create a new session.\n"
     ]
    }
   ],
   "source": [
    "import import_ipynb\n",
    "import utils\n",
    "from utils import NNPredictor\n",
    "\n",
    "#################\n",
    "# General Setup #\n",
    "#################\n",
    "m = 40  # size of the state space\n",
    "p = 20  # Number of obs at each time step (50%)\n",
    "std_m = 0.1  # standard deviation of model noise\n",
    "std_o = 1.  # standard devation of observational noise\n",
    "\n",
    "ncycle = 40  # Number of cycles\n",
    "nepochs_init = 40 # Number of epochs for initializing the weights\n",
    "nepochs = 20 # Number of epochs during training in a cycle\n",
    "Texpe = 2000 # Length of the experiment in model time unit\n",
    "\n",
    "######################\n",
    "\n",
    "##########################\n",
    "# Machine learning setup #\n",
    "##########################\n",
    "# Parameters of the neural network (architecture + training):\n",
    "param_nn = {'archi': ((24, 5, 'relu', 0.0), (37, 5, 'relu', 0.0)),  # CNN layer setup\n",
    "\t'bilin': True,  # activate bilinear layer\n",
    "\t'batchnorm': True,  # activate batchnorm normalization\n",
    "\t'reg': ('ridge', 1e-4),  # L2 regularization for the last layer\n",
    "\t'weighted': True,  # Using a variance matrix for the loss function\n",
    "\t'finetuning': False,  # Deactivate a finetuning of the last layer after optimization\n",
    "\t'npred': 1,  # Number of forecast time step in the loss function\n",
    "\t'Nepochs': nepochs,  # Number of epochs\n",
    "\t'batch_size': 256  # Batchsize during the training\n",
    "}\n",
    "nn = NNPredictor(m, **param_nn)\n",
    "\n",
    "# Load the neural net with  weights\n",
    "nn._smodel.load_weights('weights_nn.h5')"
   ]
  }
 ],
 "metadata": {
  "kernelspec": {
   "display_name": "Python 3",
   "language": "python",
   "name": "python3"
  },
  "language_info": {
   "codemirror_mode": {
    "name": "ipython",
    "version": 3
   },
   "file_extension": ".py",
   "mimetype": "text/x-python",
   "name": "python",
   "nbconvert_exporter": "python",
   "pygments_lexer": "ipython3",
   "version": "3.10.14"
  }
 },
 "nbformat": 4,
 "nbformat_minor": 2
}
