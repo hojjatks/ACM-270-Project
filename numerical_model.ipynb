{
 "cells": [
  {
   "cell_type": "code",
   "execution_count": 3,
   "metadata": {},
   "outputs": [],
   "source": [
    "import numpy as np\n",
    "\n",
    "def lorenz96(t, x, F=8):\n",
    "    \"\"\"Lorenz 96 model with constant forcing\"\"\"\n",
    "    N = len(x)\n",
    "    dxdt = np.zeros(N)\n",
    "    for i in range(N):\n",
    "        dxdt[i] = (x[(i + 1) % N] - x[i - 2]) * x[i - 1] - x[i] + F\n",
    "    return dxdt\n",
    "\n",
    "def lorenz96_twoscale(t, u, N=40, n=5, F=8):\n",
    "    dx = np.zeros(N)\n",
    "    dy = np.zeros((n, N))\n",
    "\n",
    "    u = u.reshape(n + 1, N)\n",
    "    x = u[0, :]\n",
    "    y = u[1:, :]\n",
    "\n",
    "    for i in range(N):\n",
    "        dx[i] = (x[(i+1) % N] - x[(i-2) % N])*x[(i-1) % N] - x[i] + F - p[\"h\"]*p[\"c\"]/p[\"b\"]*np.sum(y[:, i])\n",
    "\n",
    "        for j in range(n):\n",
    "            if j == n - 1:\n",
    "                jp1 = n\n",
    "                jp2 = 1\n",
    "                jm1 = n - 2\n",
    "                ip1 = i\n",
    "                ip2 = (i + 1) % N\n",
    "                im1 = i\n",
    "            elif j == 0:\n",
    "                jp1 = 1\n",
    "                jp2 = 2\n",
    "                jm1 = n\n",
    "                ip1 = i\n",
    "                ip2 = i\n",
    "                im1 = (i - 1) % N\n",
    "            else:\n",
    "                jp1 = j + 1\n",
    "                jp2 = j + 2\n",
    "                jm1 = j - 1\n",
    "                ip1 = ip2 = im1 = i\n",
    "\n",
    "            dy[j, i] = p[\"c\"]*p[\"b\"]*y[jp1, ip1]*(y[jm1, im1] - y[jp2, ip2]) - p[\"c\"]*y[j, i] + p[\"h\"]*p[\"c\"]/p[\"b\"]*x[i]\n",
    "\n",
    "    du = np.concatenate((dx, dy.flatten()))\n",
    "\n",
    "    return du"
   ]
  }
 ],
 "metadata": {
  "kernelspec": {
   "display_name": "Python 3",
   "language": "python",
   "name": "python3"
  },
  "language_info": {
   "codemirror_mode": {
    "name": "ipython",
    "version": 3
   },
   "file_extension": ".py",
   "mimetype": "text/x-python",
   "name": "python",
   "nbconvert_exporter": "python",
   "pygments_lexer": "ipython3",
   "version": "3.10.14"
  }
 },
 "nbformat": 4,
 "nbformat_minor": 2
}
