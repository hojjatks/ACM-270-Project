{
 "cells": [
  {
   "cell_type": "code",
   "execution_count": 3,
   "metadata": {},
   "outputs": [
    {
     "ename": "ImportError",
     "evalue": "cannot import name 'lorenz96' from 'numerical_model' (numerical_model.ipynb)",
     "output_type": "error",
     "traceback": [
      "\u001b[0;31m---------------------------------------------------------------------------\u001b[0m",
      "\u001b[0;31mImportError\u001b[0m                               Traceback (most recent call last)",
      "Cell \u001b[0;32mIn[3], line 6\u001b[0m\n\u001b[1;32m      3\u001b[0m \u001b[38;5;28;01mfrom\u001b[39;00m \u001b[38;5;21;01mml_model\u001b[39;00m \u001b[38;5;28;01mimport\u001b[39;00m nn\n\u001b[1;32m      5\u001b[0m \u001b[38;5;28;01mimport\u001b[39;00m \u001b[38;5;21;01mnumerical_model\u001b[39;00m\n\u001b[0;32m----> 6\u001b[0m \u001b[38;5;28;01mfrom\u001b[39;00m \u001b[38;5;21;01mnumerical_model\u001b[39;00m \u001b[38;5;28;01mimport\u001b[39;00m lorenz96\n\u001b[1;32m      8\u001b[0m \u001b[38;5;28;01mimport\u001b[39;00m \u001b[38;5;21;01mnumpy\u001b[39;00m \u001b[38;5;28;01mas\u001b[39;00m \u001b[38;5;21;01mnp\u001b[39;00m\n\u001b[1;32m      9\u001b[0m \u001b[38;5;28;01mfrom\u001b[39;00m \u001b[38;5;21;01mscipy\u001b[39;00m\u001b[38;5;21;01m.\u001b[39;00m\u001b[38;5;21;01mintegrate\u001b[39;00m \u001b[38;5;28;01mimport\u001b[39;00m solve_ivp\n",
      "\u001b[0;31mImportError\u001b[0m: cannot import name 'lorenz96' from 'numerical_model' (numerical_model.ipynb)"
     ]
    }
   ],
   "source": [
    "import import_ipynb\n",
    "import ml_model\n",
    "from ml_model import nn\n",
    "\n",
    "import numerical_model\n",
    "from numerical_model import lorenz96\n",
    "\n",
    "import numpy as np\n",
    "from scipy.integrate import solve_ivp\n",
    "import matplotlib.pyplot as plt\n",
    "\n",
    "# Time step for the ML model; use the same for the numerical integration\n",
    "dt = 0.05\n",
    "n_steps = 100\n",
    "\n",
    "# Generate a random state\n",
    "x0 = np.random.randn(40)\n",
    "\n",
    "x = x0\n",
    "x_ml = np.zeros((n_steps, 40))\n",
    "x_ml[0] = x0\n",
    "for i in range(1, n_steps):\n",
    "    x = nn._smodel.predict(x.reshape((1, 40, 1)))[0, :, 0]\n",
    "    x_ml[i] = x\n",
    "\n",
    "x_phys = solve_ivp(lorenz96, [0, n_steps*dt], x0, t_eval=np.arange(0.0, n_steps*dt, dt)).y.T\n",
    "\n",
    "# Plot the RMSE between the physical and ML forecast\n",
    "plt.plot(np.sqrt(((x_ml - x_phys)**2).mean(axis=1)))\n",
    "\n",
    "plt.savefig(\"rmse.pdf\")"
   ]
  }
 ],
 "metadata": {
  "kernelspec": {
   "display_name": "base",
   "language": "python",
   "name": "python3"
  },
  "language_info": {
   "codemirror_mode": {
    "name": "ipython",
    "version": 3
   },
   "file_extension": ".py",
   "mimetype": "text/x-python",
   "name": "python",
   "nbconvert_exporter": "python",
   "pygments_lexer": "ipython3",
   "version": "3.10.14"
  }
 },
 "nbformat": 4,
 "nbformat_minor": 2
}
